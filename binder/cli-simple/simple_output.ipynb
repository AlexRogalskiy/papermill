{
 "cells": [
  {
   "cell_type": "markdown",
   "metadata": {
    "papermill": {
     "duration": 0.007888,
     "end_time": "2020-01-28T07:57:21.147746",
     "exception": false,
     "start_time": "2020-01-28T07:57:21.139858",
     "status": "completed"
    },
    "tags": []
   },
   "source": [
    "# Simple input notebook with parameters"
   ]
  },
  {
   "cell_type": "code",
   "execution_count": 1,
   "metadata": {
    "papermill": {
     "duration": 0.012612,
     "end_time": "2020-01-28T07:57:21.172238",
     "exception": false,
     "start_time": "2020-01-28T07:57:21.159626",
     "status": "completed"
    },
    "tags": [
     "parameters"
    ]
   },
   "outputs": [],
   "source": [
    "msg = None"
   ]
  },
  {
   "cell_type": "code",
   "execution_count": 2,
   "metadata": {
    "papermill": {
     "duration": 0.010011,
     "end_time": "2020-01-28T07:57:21.184448",
     "exception": false,
     "start_time": "2020-01-28T07:57:21.174437",
     "status": "completed"
    },
    "tags": [
     "injected-parameters"
    ]
   },
   "outputs": [],
   "source": [
    "# Parameters\n",
    "msg = \"Hello\"\n"
   ]
  },
  {
   "cell_type": "code",
   "execution_count": 3,
   "metadata": {
    "papermill": {
     "duration": 0.011221,
     "end_time": "2020-01-28T07:57:21.199409",
     "exception": false,
     "start_time": "2020-01-28T07:57:21.188188",
     "status": "completed"
    },
    "tags": []
   },
   "outputs": [
    {
     "name": "stdout",
     "output_type": "stream",
     "text": [
      "Hello\n"
     ]
    }
   ],
   "source": [
    "print(msg)"
   ]
  }
 ],
 "metadata": {
  "celltoolbar": "Tags",
  "hide_input": false,
  "kernelspec": {
   "display_name": "Python 3",
   "language": "python",
   "name": "python3"
  },
  "language_info": {
   "codemirror_mode": {
    "name": "ipython",
    "version": 3
   },
   "file_extension": ".py",
   "mimetype": "text/x-python",
   "name": "python",
   "nbconvert_exporter": "python",
   "pygments_lexer": "ipython3",
   "version": "3.6.7"
  },
  "papermill": {
   "duration": 1.157077,
   "end_time": "2020-01-28T07:57:21.525041",
   "environment_variables": {},
   "exception": null,
   "input_path": "binder/cli-simple/simple_input.ipynb",
   "output_path": "binder/cli-simple/simple_output.ipynb",
   "parameters": {
    "msg": "Hello"
   },
   "start_time": "2020-01-28T07:57:20.367964",
   "version": "1.2.1"
  }
 },
 "nbformat": 4,
 "nbformat_minor": 1
}